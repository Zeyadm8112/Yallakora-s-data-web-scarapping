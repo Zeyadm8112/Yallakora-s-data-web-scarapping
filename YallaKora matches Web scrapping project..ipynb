{
 "cells": [
  {
   "cell_type": "code",
   "execution_count": 32,
   "id": "5f38be10",
   "metadata": {},
   "outputs": [],
   "source": [
    "import requests \n",
    "from bs4 import BeautifulSoup\n",
    "import pandas as pd\n",
    "import csv"
   ]
  },
  {
   "cell_type": "code",
   "execution_count": 34,
   "id": "c5290bb1",
   "metadata": {},
   "outputs": [
    {
     "name": "stdout",
     "output_type": "stream",
     "text": [
      "file created\n"
     ]
    }
   ],
   "source": [
    "date = input(\"please input a date in the following format MM/DD/YY\")\n",
    "page = requests.get(f\"https://www.yallakora.com/match-center/%D9%85%D8%B1%D9%83%D8%B2-%D8%A7%D9%84%D9%85%D8%A8%D8%A7%D8%B1%D9%8A%D8%A7%D8%AA?date={date}#days\")\n",
    "\n",
    "\n",
    "def main(page):\n",
    "    src = page.content\n",
    "    soup = BeautifulSoup(src,\"lxml\")\n",
    "    match_details=[]\n",
    "    \n",
    "    championships = soup.find_all(\"div\" , {'class': 'matchCard'})\n",
    "    \n",
    "    def getMatchInfo(championships) :\n",
    "        championship_title=championships.contents[1].find(\"h2\").text.strip()\n",
    "        all_matches=championships.contents[3].find_all('li')\n",
    "        matches_no=len(all_matches)\n",
    "        for i in range(matches_no):\n",
    "            # Get name of teams\n",
    "            firstTeam =all_matches[i].find('div', {'class' : 'teamA'}).text.strip()\n",
    "            seconedTeam=all_matches[i].find('div', {'class' : 'teamB'}).text.strip() \n",
    "            # Get the match's score\n",
    "            match_result= all_matches[i].find('div', {\"class\" : \"MResult\"}).find_all('span' ,{'class': 'score'})\n",
    "            \n",
    "            score = f\"{match_result[0].text.strip()} - {match_result[1].text.strip()}\"\n",
    "            # Get match time\n",
    "            match_time= all_matches[i].find('div' , {'class' : \"MResult\"}).find('span',{'class' : 'time'}).text.strip()\n",
    "            # add matches to match details\n",
    "            match_details.append({\"Championship\":championship_title , \"First team\": firstTeam,\"Seconed team\": seconedTeam,\"Time\":match_time,\"Result\" :  score })\n",
    "            \n",
    "       # print(match_details)\n",
    "    \n",
    "    for i in range(len(championships)) :\n",
    "        getMatchInfo(championships[i])\n",
    "\n",
    "     \n",
    "    \n",
    "    \n",
    "    keys = match_details[0].keys()\n",
    "    \n",
    "    with open(\"G:\\Web scrapping projects\\yall-kora\\matches_details.csv\",'w' , encoding=\"utf-8\") as output_file:\n",
    "        dict_writer=csv.DictWriter(output_file, keys)\n",
    "        \n",
    "        dict_writer.writeheader()\n",
    "        dict_writer.writerows(match_details)\n",
    "        print('file created')\n",
    "    \n",
    "\n",
    "main(page)\n",
    "\n",
    "\n",
    "\n",
    "\n",
    "\n",
    "\n",
    "\n"
   ]
  },
  {
   "cell_type": "code",
   "execution_count": null,
   "id": "e336552a",
   "metadata": {},
   "outputs": [],
   "source": []
  },
  {
   "cell_type": "code",
   "execution_count": null,
   "id": "407e5775",
   "metadata": {},
   "outputs": [],
   "source": []
  },
  {
   "cell_type": "code",
   "execution_count": null,
   "id": "2dfcd7d3",
   "metadata": {},
   "outputs": [],
   "source": []
  },
  {
   "cell_type": "code",
   "execution_count": null,
   "id": "13f3701d",
   "metadata": {},
   "outputs": [],
   "source": []
  }
 ],
 "metadata": {
  "kernelspec": {
   "display_name": "Python 3 (ipykernel)",
   "language": "python",
   "name": "python3"
  },
  "language_info": {
   "codemirror_mode": {
    "name": "ipython",
    "version": 3
   },
   "file_extension": ".py",
   "mimetype": "text/x-python",
   "name": "python",
   "nbconvert_exporter": "python",
   "pygments_lexer": "ipython3",
   "version": "3.9.13"
  }
 },
 "nbformat": 4,
 "nbformat_minor": 5
}
